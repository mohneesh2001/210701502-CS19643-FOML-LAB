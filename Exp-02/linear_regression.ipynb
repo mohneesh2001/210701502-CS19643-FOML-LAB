{
 "cells": [
  {
   "cell_type": "code",
   "execution_count": null,
   "metadata": {},
   "outputs": [],
   "source": [
    "import pandas as pd\n",
    "from sklearn.model_selection import train_test_split\n",
    "from sklearn.linear_model import LinearRegression\n",
    "import matplotlib.pyplot as plt\n",
    "\n",
    "df=pd.read_csv(\"areas.csv\")\n",
    "print(df)\n",
    "\n",
    "plt.xlabel(\"area - sq.ft.\")\n",
    "plt.ylabel(\"price\")\n",
    "plt.scatter(df.area,df.price,color=\"red\",marker=\"*\")\n",
    "\n",
    "model=LinearRegression()\n",
    "model.fit(df[['area']],df.price)\n",
    "nd=pd.read_csv(\"home_prices.csv\")\n",
    "print(nd)\n",
    "model.predict(nd[['area']])"
   ]
  }
 ],
 "metadata": {
  "language_info": {
   "name": "python"
  }
 },
 "nbformat": 4,
 "nbformat_minor": 2
}
