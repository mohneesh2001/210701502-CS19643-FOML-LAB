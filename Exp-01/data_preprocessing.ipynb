{
 "cells": [
  {
   "cell_type": "code",
   "execution_count": null,
   "metadata": {},
   "outputs": [],
   "source": [
    "import pandas as pd\n",
    "from sklearn.feature_selection import SelectKBest\n",
    "from sklearn.feature_selection import f_classif\n",
    "from sklearn.preprocessing import StandardScaler\n",
    "from sklearn.model_selection import train_test_split\n",
    "\n",
    "# Creating sample raw data\n",
    "raw_data = {\n",
    "    'A': [1, 2, None, 4, 5, 6, 7, 8, 9, 10],\n",
    "    'B': [10, 20, 30, 40, None, 60, 70, 80, 90, 100],\n",
    "    'C': [100, 200, 300, 400, 500, 600, 700, 800, 900, None],\n",
    "    'Target': [0, 1, 0, 1, 1, 0, 0, 1, 0, 1]\n",
    "}\n",
    "\n",
    "# Creating DataFrame from raw data\n",
    "df = pd.DataFrame(raw_data)\n",
    "\n",
    "# Data Cleaning: Handling missing values\n",
    "df.fillna(df.mean(), inplace=True)\n",
    "\n",
    "# Data Validation: Checking for any missing values\n",
    "assert df.isnull().sum().sum() == 0, \"Data contains missing values\"\n",
    "\n",
    "# Feature Selection: Using SelectKBest with f_classif scoring function\n",
    "X = df.drop('Target', axis=1)\n",
    "y = df['Target']\n",
    "best_features = SelectKBest(score_func=f_classif, k=2).fit(X, y)\n",
    "selected_features = X.columns[best_features.get_support(indices=True)]\n",
    "\n",
    "# Data Normalization: Standardizing features\n",
    "scaler = StandardScaler()\n",
    "X_scaled = scaler.fit_transform(X[selected_features])\n",
    "\n",
    "print(X_scaled)"
   ]
  }
 ],
 "metadata": {
  "language_info": {
   "name": "python"
  }
 },
 "nbformat": 4,
 "nbformat_minor": 2
}
