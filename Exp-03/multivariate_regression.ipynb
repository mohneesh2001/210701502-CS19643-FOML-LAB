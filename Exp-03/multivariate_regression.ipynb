{
 "cells": [
  {
   "cell_type": "code",
   "execution_count": null,
   "metadata": {},
   "outputs": [],
   "source": [
    "import pandas as pd\n",
    "import numpy as np\n",
    "import matplotlib.pyplot as plt\n",
    "from sklearn.linear_model import LinearRegression\n",
    "\n",
    "df=pd.read_csv(\"home_prices.csv\")\n",
    "df.head()\n",
    "\n",
    "import math\n",
    "median_bedroom=math.floor(df.bedroom.median())\n",
    "print(df)\n",
    "\n",
    "df.bedroom=df.bedroom.fillna(median_bedroom)\n",
    "print(df)\n",
    "\n",
    "model=LinearRegression()\n",
    "model.fit(df[[\"area\",\"bedroom\",\"age\"]],df.price)\n",
    "\n",
    "print(model.coef_)\n",
    "print(model.intercept_)\n",
    "\n",
    "model.predict([[3000,3,40]])"
   ]
  }
 ],
 "metadata": {
  "language_info": {
   "name": "python"
  }
 },
 "nbformat": 4,
 "nbformat_minor": 2
}
